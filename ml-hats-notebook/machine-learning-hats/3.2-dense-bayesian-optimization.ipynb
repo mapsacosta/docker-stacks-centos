{
 "cells": [
  {
   "cell_type": "markdown",
   "metadata": {},
   "source": [
    "# Optimize a dense network with Bayesian optimization\n",
    "Authors: Javier Duarte, Thong Nguyen"
   ]
  },
  {
   "cell_type": "markdown",
   "metadata": {},
   "source": [
    "## Loading `pandas` DataFrames\n",
    "Now we load two different `NumPy` arrays. One corresponding to the VV signal and one corresponding to the background."
   ]
  },
  {
   "cell_type": "code",
   "execution_count": 1,
   "metadata": {},
   "outputs": [
    {
     "name": "stderr",
     "output_type": "stream",
     "text": [
      "/cvmfs/cms.cern.ch/slc7_amd64_gcc820/external/py2-numba/0.39.0-ikaegh2/lib/python2.7/site-packages/numba/__init__.py:78: UserWarning: llvmlite version format not recognized!\n",
      "  warnings.warn(\"llvmlite version format not recognized!\")\n"
     ]
    }
   ],
   "source": [
    "import uproot\n",
    "import numpy as np\n",
    "import pandas as pd\n",
    "import h5py\n",
    "\n",
    "# fix random seed for reproducibility\n",
    "seed = 7\n",
    "np.random.seed(seed)\n",
    "\n",
    "treename = 'HZZ4LeptonsAnalysisReduced'\n",
    "filename = {}\n",
    "upfile = {}\n",
    "params = {}\n",
    "df = {}\n",
    "\n",
    "filename['VV'] = 'data/ntuple_4mu_VV.root'\n",
    "filename['bkg'] = 'data/ntuple_4mu_bkg.root'\n",
    "\n",
    "VARS = ['f_mass4l','f_massjj'] # choose which vars to use (2d)\n",
    "\n",
    "upfile['VV'] = uproot.open(filename['VV'])\n",
    "upfile['bkg'] = uproot.open(filename['bkg'])\n",
    "\n",
    "df['bkg'] = upfile['bkg'][treename].pandas.df(branches=VARS)\n",
    "df['VV'] = upfile['VV'][treename].pandas.df(branches=VARS)\n",
    "\n",
    "# cut out undefined variables VARS[0] and VARS[1] > -999\n",
    "df['VV']= df['VV'][(df['VV'][VARS[0]] > -999) & (df['VV'][VARS[1]] > -999)]\n",
    "df['bkg']= df['bkg'][(df['bkg'][VARS[0]] > -999) & (df['bkg'][VARS[1]] > -999)] \n",
    "\n",
    "# add isSignal variable\n",
    "df['VV']['isSignal'] = np.ones(len(df['VV'])) \n",
    "df['bkg']['isSignal'] = np.zeros(len(df['bkg'])) "
   ]
  },
  {
   "cell_type": "markdown",
   "metadata": {},
   "source": [
    "## Define the model\n",
    "We'll start with a dense (fully-connected) NN layer.\n",
    "Our model will have a single fully-connected hidden layer with the same number of neurons as input variables. \n",
    "The weights are initialized using a small Gaussian random number. \n",
    "We will switch between linear and tanh activation functions for the hidden layer.\n",
    "The output layer contains a single neuron in order to make predictions. \n",
    "It uses the sigmoid activation function in order to produce a probability output in the range of 0 to 1.\n",
    "\n",
    "We are using the `binary_crossentropy` loss function during training, a standard loss function for binary classification problems. \n",
    "We will optimize the model with the Adam algorithm for stochastic gradient descent and we will collect accuracy metrics while the model is trained."
   ]
  },
  {
   "cell_type": "code",
   "execution_count": 2,
   "metadata": {},
   "outputs": [
    {
     "name": "stderr",
     "output_type": "stream",
     "text": [
      "Using TensorFlow backend.\n"
     ]
    },
    {
     "name": "stdout",
     "output_type": "stream",
     "text": [
      "_________________________________________________________________\n",
      "Layer (type)                 Output Shape              Param #   \n",
      "=================================================================\n",
      "input (InputLayer)           (None, 2)                 0         \n",
      "_________________________________________________________________\n",
      "output (Dense)               (None, 1)                 3         \n",
      "=================================================================\n",
      "Total params: 3\n",
      "Trainable params: 3\n",
      "Non-trainable params: 0\n",
      "_________________________________________________________________\n"
     ]
    }
   ],
   "source": [
    "# baseline keras model\n",
    "from keras.models import Sequential, Model\n",
    "from keras.optimizers import SGD\n",
    "from keras.layers import Input, Activation, Dense, Convolution2D, MaxPooling2D, Dropout, Flatten\n",
    "from keras.utils import np_utils\n",
    "from keras import optimizers\n",
    "\n",
    "NDIM = len(VARS)\n",
    "inputs = Input(shape=(NDIM,), name = 'input')  \n",
    "outputs = Dense(1, name = 'output', kernel_initializer='normal', activation='sigmoid')(inputs)\n",
    "\n",
    "# creae the model\n",
    "model = Model(inputs=inputs, outputs=outputs)\n",
    "# compile the model\n",
    "model.compile(optimizer='adam', loss='binary_crossentropy', metrics=['accuracy'])\n",
    "# print the model summary\n",
    "model.summary()"
   ]
  },
  {
   "cell_type": "markdown",
   "metadata": {},
   "source": [
    "## Dividing the data into testing and training dataset\n",
    "\n",
    "We will split the data into two parts (one for training+validation and one for testing). \n",
    "We will also apply \"standard scaling\" preprocessing: http://scikit-learn.org/stable/modules/generated/sklearn.preprocessing.StandardScaler.html i.e. making the mean = 0 and the RMS = 1 for all input variables (based **only** on the training/validation dataset).\n",
    "We will also define our early stopping criteria to prevent over-fitting and we will save the model based on the best `val_loss`."
   ]
  },
  {
   "cell_type": "code",
   "execution_count": 6,
   "metadata": {},
   "outputs": [],
   "source": [
    "df_all = pd.concat([df['VV'],df['bkg']])\n",
    "dataset = df_all.values\n",
    "X = dataset[:,0:NDIM]\n",
    "Y = dataset[:,NDIM]\n",
    "\n",
    "from sklearn.model_selection import train_test_split\n",
    "X_train_val, X_test, Y_train_val, Y_test = train_test_split(X, Y, test_size=0.2, random_state=7)\n",
    "\n",
    "# preprocessing: standard scalar\n",
    "from sklearn.preprocessing import StandardScaler\n",
    "scaler = StandardScaler().fit(X_train_val)\n",
    "X_train_val = scaler.transform(X_train_val)\n",
    "X_test = scaler.transform(X_test)\n",
    "\n",
    "# early stopping callback\n",
    "from keras.callbacks import EarlyStopping\n",
    "early_stopping = EarlyStopping(monitor='val_loss', patience=10)\n",
    "\n",
    "# model checkpoint callback\n",
    "# this saves our model architecture + parameters into dense_model.h5\n",
    "from keras.callbacks import ModelCheckpoint\n",
    "model_checkpoint = ModelCheckpoint('dense_model.h5', monitor='val_loss', \n",
    "                                   verbose=0, save_best_only=True, \n",
    "                                   save_weights_only=False, mode='auto', \n",
    "                                   period=1)"
   ]
  },
  {
   "cell_type": "markdown",
   "metadata": {},
   "source": [
    "## Run training \n",
    "Here, we run the training."
   ]
  },
  {
   "cell_type": "code",
   "execution_count": 7,
   "metadata": {},
   "outputs": [
    {
     "name": "stdout",
     "output_type": "stream",
     "text": [
      "Finished in 8.70960712433s\n"
     ]
    }
   ],
   "source": [
    "# Train classifier\n",
    "import time\n",
    "begt = time.time()\n",
    "history = model.fit(X_train_val, \n",
    "                    Y_train_val, \n",
    "                    epochs=100, \n",
    "                    batch_size=1024, \n",
    "                    verbose=0, # switch to 1 for more verbosity \n",
    "                    callbacks=[early_stopping, model_checkpoint], \n",
    "                    validation_split=0.25)\n",
    "print(\"Finished in {}s\".format(time.time()-begt))"
   ]
  },
  {
   "cell_type": "markdown",
   "metadata": {},
   "source": [
    "## Optimize the hyperparameters of the model\n",
    "The hyperperparameters of the model that we weill optimize are the number of hidden layers `num_hidden`, the number of nodes in each layer `initial_node`, and the fraction of dropout `dropout`."
   ]
  },
  {
   "cell_type": "code",
   "execution_count": 8,
   "metadata": {
    "scrolled": false
   },
   "outputs": [
    {
     "name": "stdout",
     "output_type": "stream",
     "text": [
      "New configuration: {'dropout': 0.10919572308469448, 'hidden_layers': 1, 'learning_rate': 0.0005600770399424082, 'batch_size': 3062, 'initial_nodes': 85}\n",
      "_________________________________________________________________\n",
      "Layer (type)                 Output Shape              Param #   \n",
      "=================================================================\n",
      "input (InputLayer)           (None, 2)                 0         \n",
      "_________________________________________________________________\n",
      "output (Dense)               (None, 1)                 3         \n",
      "=================================================================\n",
      "Total params: 3\n",
      "Trainable params: 3\n",
      "Non-trainable params: 0\n",
      "_________________________________________________________________\n",
      "Best acc: 0.93008680942\n",
      "New configuration: {'dropout': 0.22309946750343207, 'hidden_layers': 1, 'learning_rate': 0.006015816920825813, 'batch_size': 921, 'initial_nodes': 9}\n",
      "_________________________________________________________________\n",
      "Layer (type)                 Output Shape              Param #   \n",
      "=================================================================\n",
      "input (InputLayer)           (None, 2)                 0         \n",
      "_________________________________________________________________\n",
      "output (Dense)               (None, 1)                 3         \n",
      "=================================================================\n",
      "Total params: 3\n",
      "Trainable params: 3\n",
      "Non-trainable params: 0\n",
      "_________________________________________________________________\n",
      "Best acc: 0.939729992843\n",
      "New configuration: {'dropout': 0.19401930757342695, 'hidden_layers': 1, 'learning_rate': 0.0009344233883787171, 'batch_size': 2093, 'initial_nodes': 48}\n",
      "_________________________________________________________________\n",
      "Layer (type)                 Output Shape              Param #   \n",
      "=================================================================\n",
      "input (InputLayer)           (None, 2)                 0         \n",
      "_________________________________________________________________\n",
      "output (Dense)               (None, 1)                 3         \n",
      "=================================================================\n",
      "Total params: 3\n",
      "Trainable params: 3\n",
      "Non-trainable params: 0\n",
      "_________________________________________________________________\n",
      "Best acc: 0.94262294717\n",
      "New configuration: {'dropout': 0.8762834402421655, 'hidden_layers': 3, 'learning_rate': 0.001625877427086297, 'batch_size': 2311, 'initial_nodes': 78}\n",
      "_________________________________________________________________\n",
      "Layer (type)                 Output Shape              Param #   \n",
      "=================================================================\n",
      "input (InputLayer)           (None, 2)                 0         \n",
      "_________________________________________________________________\n",
      "output (Dense)               (None, 1)                 3         \n",
      "=================================================================\n",
      "Total params: 3\n",
      "Trainable params: 3\n",
      "Non-trainable params: 0\n",
      "_________________________________________________________________\n",
      "Best acc: 0.945033769685\n",
      "New configuration: {'dropout': 0.2474280963926089, 'hidden_layers': 2, 'learning_rate': 0.010731513601673247, 'batch_size': 2546, 'initial_nodes': 61}\n",
      "_________________________________________________________________\n",
      "Layer (type)                 Output Shape              Param #   \n",
      "=================================================================\n",
      "input (InputLayer)           (None, 2)                 0         \n",
      "_________________________________________________________________\n",
      "output (Dense)               (None, 1)                 3         \n",
      "=================================================================\n",
      "Total params: 3\n",
      "Trainable params: 3\n",
      "Non-trainable params: 0\n",
      "_________________________________________________________________\n",
      "Best acc: 0.946480207957\n",
      "New configuration: {'dropout': 0.8037585947601061, 'hidden_layers': 3, 'learning_rate': 1.2090882997080298e-05, 'batch_size': 3733, 'initial_nodes': 29}\n",
      "_________________________________________________________________\n",
      "Layer (type)                 Output Shape              Param #   \n",
      "=================================================================\n",
      "input (InputLayer)           (None, 2)                 0         \n",
      "_________________________________________________________________\n",
      "output (Dense)               (None, 1)                 3         \n",
      "=================================================================\n",
      "Total params: 3\n",
      "Trainable params: 3\n",
      "Non-trainable params: 0\n",
      "_________________________________________________________________\n",
      "Best acc: 0.94816777968\n",
      "New configuration: {'dropout': 0.7280362834123955, 'hidden_layers': 1, 'learning_rate': 0.000499811722314133, 'batch_size': 2295, 'initial_nodes': 36}\n",
      "_________________________________________________________________\n",
      "Layer (type)                 Output Shape              Param #   \n",
      "=================================================================\n",
      "input (InputLayer)           (None, 2)                 0         \n",
      "_________________________________________________________________\n",
      "output (Dense)               (None, 1)                 3         \n",
      "=================================================================\n",
      "Total params: 3\n",
      "Trainable params: 3\n",
      "Non-trainable params: 0\n",
      "_________________________________________________________________\n",
      "Best acc: 0.949373170978\n",
      "New configuration: {'dropout': 0.6422091724381469, 'hidden_layers': 2, 'learning_rate': 0.00018326055021161485, 'batch_size': 604, 'initial_nodes': 80}\n",
      "_________________________________________________________________\n",
      "Layer (type)                 Output Shape              Param #   \n",
      "=================================================================\n",
      "input (InputLayer)           (None, 2)                 0         \n",
      "_________________________________________________________________\n",
      "output (Dense)               (None, 1)                 3         \n",
      "=================================================================\n",
      "Total params: 3\n",
      "Trainable params: 3\n",
      "Non-trainable params: 0\n",
      "_________________________________________________________________\n",
      "Best acc: 0.950578592322\n",
      "New configuration: {'dropout': 0.5486612987713032, 'hidden_layers': 2, 'learning_rate': 0.004116455326627872, 'batch_size': 1415, 'initial_nodes': 76}\n",
      "_________________________________________________________________\n",
      "Layer (type)                 Output Shape              Param #   \n",
      "=================================================================\n",
      "input (InputLayer)           (None, 2)                 0         \n",
      "_________________________________________________________________\n",
      "output (Dense)               (None, 1)                 3         \n",
      "=================================================================\n",
      "Total params: 3\n",
      "Trainable params: 3\n",
      "Non-trainable params: 0\n",
      "_________________________________________________________________\n",
      "Best acc: 0.951060745416\n",
      "New configuration: {'dropout': 0.730104980246572, 'hidden_layers': 2, 'learning_rate': 1.9989431770225823e-05, 'batch_size': 2184, 'initial_nodes': 88}\n",
      "_________________________________________________________________\n",
      "Layer (type)                 Output Shape              Param #   \n",
      "=================================================================\n",
      "input (InputLayer)           (None, 2)                 0         \n",
      "_________________________________________________________________\n",
      "output (Dense)               (None, 1)                 3         \n",
      "=================================================================\n",
      "Total params: 3\n",
      "Trainable params: 3\n",
      "Non-trainable params: 0\n",
      "_________________________________________________________________\n",
      "Best acc: 0.951301828012\n",
      "New configuration: {'dropout': 0.5085941124307378, 'hidden_layers': 3, 'learning_rate': 2.3649140776264395e-05, 'batch_size': 4956, 'initial_nodes': 18}\n",
      "_________________________________________________________________\n",
      "Layer (type)                 Output Shape              Param #   \n",
      "=================================================================\n",
      "input (InputLayer)           (None, 2)                 0         \n",
      "_________________________________________________________________\n",
      "output (Dense)               (None, 1)                 3         \n",
      "=================================================================\n",
      "Total params: 3\n",
      "Trainable params: 3\n",
      "Non-trainable params: 0\n",
      "_________________________________________________________________\n"
     ]
    },
    {
     "name": "stdout",
     "output_type": "stream",
     "text": [
      "Best acc: 0.951301813126\n",
      "New configuration: {'dropout': 0.4944812968008331, 'hidden_layers': 3, 'learning_rate': 0.0926608562595269, 'batch_size': 4953, 'initial_nodes': 85}\n",
      "_________________________________________________________________\n",
      "Layer (type)                 Output Shape              Param #   \n",
      "=================================================================\n",
      "input (InputLayer)           (None, 2)                 0         \n",
      "_________________________________________________________________\n",
      "output (Dense)               (None, 1)                 3         \n",
      "=================================================================\n",
      "Total params: 3\n",
      "Trainable params: 3\n",
      "Non-trainable params: 0\n",
      "_________________________________________________________________\n",
      "Best acc: 0.951301813126\n",
      "New configuration: {'dropout': 0.9, 'hidden_layers': 3, 'learning_rate': 0.1, 'batch_size': 5000, 'initial_nodes': 5}\n",
      "_________________________________________________________________\n",
      "Layer (type)                 Output Shape              Param #   \n",
      "=================================================================\n",
      "input (InputLayer)           (None, 2)                 0         \n",
      "_________________________________________________________________\n",
      "output (Dense)               (None, 1)                 3         \n",
      "=================================================================\n",
      "Total params: 3\n",
      "Trainable params: 3\n",
      "Non-trainable params: 0\n",
      "_________________________________________________________________\n",
      "Best acc: 0.951542913914\n",
      "New configuration: {'dropout': 0.9, 'hidden_layers': 3, 'learning_rate': 0.1, 'batch_size': 500, 'initial_nodes': 5}\n",
      "_________________________________________________________________\n",
      "Layer (type)                 Output Shape              Param #   \n",
      "=================================================================\n",
      "input (InputLayer)           (None, 2)                 0         \n",
      "_________________________________________________________________\n",
      "output (Dense)               (None, 1)                 3         \n",
      "=================================================================\n",
      "Total params: 3\n",
      "Trainable params: 3\n",
      "Non-trainable params: 0\n",
      "_________________________________________________________________\n",
      "Best acc: 0.951783997458\n",
      "New configuration: {'dropout': 0.5734672152367808, 'hidden_layers': 1, 'learning_rate': 0.09280269557449079, 'batch_size': 4791, 'initial_nodes': 16}\n",
      "_________________________________________________________________\n",
      "Layer (type)                 Output Shape              Param #   \n",
      "=================================================================\n",
      "input (InputLayer)           (None, 2)                 0         \n",
      "_________________________________________________________________\n",
      "output (Dense)               (None, 1)                 3         \n",
      "=================================================================\n",
      "Total params: 3\n",
      "Trainable params: 3\n",
      "Non-trainable params: 0\n",
      "_________________________________________________________________\n",
      "Best acc: 0.951784014702\n",
      "New configuration: {'dropout': 0.8992358491309422, 'hidden_layers': 1, 'learning_rate': 0.06004231503266504, 'batch_size': 4457, 'initial_nodes': 99}\n",
      "_________________________________________________________________\n",
      "Layer (type)                 Output Shape              Param #   \n",
      "=================================================================\n",
      "input (InputLayer)           (None, 2)                 0         \n",
      "_________________________________________________________________\n",
      "output (Dense)               (None, 1)                 3         \n",
      "=================================================================\n",
      "Total params: 3\n",
      "Trainable params: 3\n",
      "Non-trainable params: 0\n",
      "_________________________________________________________________\n",
      "Best acc: 0.951784014702\n",
      "New configuration: {'dropout': 0.476843668902352, 'hidden_layers': 1, 'learning_rate': 1.06024078266601e-05, 'batch_size': 532, 'initial_nodes': 15}\n",
      "_________________________________________________________________\n",
      "Layer (type)                 Output Shape              Param #   \n",
      "=================================================================\n",
      "input (InputLayer)           (None, 2)                 0         \n",
      "_________________________________________________________________\n",
      "output (Dense)               (None, 1)                 3         \n",
      "=================================================================\n",
      "Total params: 3\n",
      "Trainable params: 3\n",
      "Non-trainable params: 0\n",
      "_________________________________________________________________\n",
      "Best acc: 0.951783985963\n",
      "New configuration: {'dropout': 0.6410273817968735, 'hidden_layers': 3, 'learning_rate': 0.07930661996226276, 'batch_size': 592, 'initial_nodes': 99}\n",
      "_________________________________________________________________\n",
      "Layer (type)                 Output Shape              Param #   \n",
      "=================================================================\n",
      "input (InputLayer)           (None, 2)                 0         \n",
      "_________________________________________________________________\n",
      "output (Dense)               (None, 1)                 3         \n",
      "=================================================================\n",
      "Total params: 3\n",
      "Trainable params: 3\n",
      "Non-trainable params: 0\n",
      "_________________________________________________________________\n",
      "Best acc: 0.951542916385\n",
      "New configuration: {'dropout': 0.899352573765936, 'hidden_layers': 1, 'learning_rate': 5.415162495672395e-05, 'batch_size': 618, 'initial_nodes': 90}\n",
      "_________________________________________________________________\n",
      "Layer (type)                 Output Shape              Param #   \n",
      "=================================================================\n",
      "input (InputLayer)           (None, 2)                 0         \n",
      "_________________________________________________________________\n",
      "output (Dense)               (None, 1)                 3         \n",
      "=================================================================\n",
      "Total params: 3\n",
      "Trainable params: 3\n",
      "Non-trainable params: 0\n",
      "_________________________________________________________________\n",
      "Best acc: 0.951783979525\n",
      "New configuration: {'dropout': 0.5489634621057891, 'hidden_layers': 1, 'learning_rate': 0.1, 'batch_size': 5000, 'initial_nodes': 5}\n",
      "_________________________________________________________________\n",
      "Layer (type)                 Output Shape              Param #   \n",
      "=================================================================\n",
      "input (InputLayer)           (None, 2)                 0         \n",
      "_________________________________________________________________\n",
      "output (Dense)               (None, 1)                 3         \n",
      "=================================================================\n",
      "Total params: 3\n",
      "Trainable params: 3\n",
      "Non-trainable params: 0\n",
      "_________________________________________________________________\n",
      "Best acc: 0.951542913914\n",
      "Finish optimization in 103.138601065s\n"
     ]
    }
   ],
   "source": [
    "from skopt import gp_minimize\n",
    "from skopt.space import Real, Integer\n",
    "from skopt.utils import use_named_args\n",
    "\n",
    "def build_custom_model(num_hiddens=2, initial_node=50, \n",
    "                          dropout=0.5):\n",
    "    inputs = Input(shape=(NDIM,), name = 'input')\n",
    "    for i in range(num_hiddens):\n",
    "        hidden = Dense(int(round(initial_node/np.power(2,i))), activation='relu')(inputs if i==0 else hidden)\n",
    "        hidden = Dropout(np.float32(dropout))(hidden)\n",
    "    outputs = Dense(1, name = 'output', kernel_initializer='normal', activation='sigmoid')(inputs)\n",
    "    model = Model(inputs=inputs, outputs=outputs)\n",
    "    \n",
    "    return model\n",
    "\n",
    "def train(batch_size=1000):\n",
    "    history = model.fit(X_train_val, \n",
    "                    Y_train_val, \n",
    "                    epochs=100, \n",
    "                    batch_size=batch_size, \n",
    "                    verbose=0, # switch to 1 for more verbosity \n",
    "                    callbacks=[early_stopping, model_checkpoint], \n",
    "                    validation_split=0.25)\n",
    "    best_acc = max(history.history['val_acc'])\n",
    "    return best_acc\n",
    "\n",
    "space  = [Integer(1, 3, name='hidden_layers'),\n",
    "          Integer(5, 100, name='initial_nodes'),\n",
    "          Real(0.0,0.9,name='dropout'),\n",
    "          Integer(500,5000,name='batch_size'),\n",
    "          Real(10**-5, 10**-1, \"log-uniform\", name='learning_rate'),\n",
    "          ]\n",
    "\n",
    "@use_named_args(space)\n",
    "def objective(**X):\n",
    "    print(\"New configuration: {}\".format(X))\n",
    "\n",
    "    model = build_custom_model(num_hiddens=X['hidden_layers'], initial_node=X['initial_nodes'], \n",
    "                      dropout=X['dropout'])\n",
    "\n",
    "    model.compile(optimizer=optimizers.Adam(lr=X['learning_rate']), loss='binary_crossentropy', metrics=['accuracy'])\n",
    "    model.summary()\n",
    "\n",
    "    best_acc = train(batch_size=X['batch_size'])\n",
    "        \n",
    "    print(\"Best acc: {}\".format(best_acc))\n",
    "    return -best_acc\n",
    "\n",
    "begt = time.time()\n",
    "res_gp = gp_minimize(objective, space, n_calls=20, random_state=3)\n",
    "print(\"Finish optimization in {}s\".format(time.time()-begt))"
   ]
  },
  {
   "cell_type": "markdown",
   "metadata": {},
   "source": [
    "## Visualize the improvement\n",
    "Let's see how Bayesian optimization improves the accuracy"
   ]
  },
  {
   "cell_type": "code",
   "execution_count": 10,
   "metadata": {},
   "outputs": [
    {
     "data": {
      "text/plain": [
       "<matplotlib.axes._subplots.AxesSubplot at 0x7f4c2d302c90>"
      ]
     },
     "execution_count": 10,
     "metadata": {},
     "output_type": "execute_result"
    },
    {
     "data": {
      "image/png": "[encoded data removed]",
      "text/plain": [
       "<Figure size 432x288 with 1 Axes>"
      ]
     },
     "metadata": {
      "needs_background": "light"
     },
     "output_type": "display_data"
    }
   ],
   "source": [
    "from skopt.plots import plot_convergence\n",
    "plot_convergence(res_gp)"
   ]
  },
  {
   "cell_type": "code",
   "execution_count": 11,
   "metadata": {},
   "outputs": [
    {
     "name": "stdout",
     "output_type": "stream",
     "text": [
      "Best parameters: \n",
      "best_hidden_layers = 1 \n",
      "best_initial_nodes = 16 \n",
      "best_dropout = 0.573467215237 \n",
      "best_batch_size = 4791 \n",
      "best_learning_rate = 0.0928026955745\n"
     ]
    }
   ],
   "source": [
    "print(\"Best parameters: \\\n",
    "\\nbest_hidden_layers = {} \\\n",
    "\\nbest_initial_nodes = {} \\\n",
    "\\nbest_dropout = {} \\\n",
    "\\nbest_batch_size = {} \\\n",
    "\\nbest_learning_rate = {}\".format(res_gp.x[0],\n",
    "                                 res_gp.x[1],\n",
    "                                 res_gp.x[2],\n",
    "                                 res_gp.x[3],\n",
    "                                 res_gp.x[4]))\n"
   ]
  },
  {
   "cell_type": "markdown",
   "metadata": {},
   "source": [
    "## Plot performance\n",
    "Here, we plot the history of the training and the performance in a ROC curve"
   ]
  },
  {
   "cell_type": "code",
   "execution_count": 12,
   "metadata": {},
   "outputs": [
    {
     "data": {
      "image/png": "[encoded data removed]",
      "text/plain": [
       "<Figure size 1080x720 with 3 Axes>"
      ]
     },
     "metadata": {
      "needs_background": "light"
     },
     "output_type": "display_data"
    }
   ],
   "source": [
    "import matplotlib.pyplot as plt\n",
    "%matplotlib inline\n",
    "# plot loss vs epoch\n",
    "plt.figure(figsize=(15,10))\n",
    "ax = plt.subplot(2, 2, 1)\n",
    "ax.plot(history.history['loss'], label='loss')\n",
    "ax.plot(history.history['val_loss'], label='val_loss')\n",
    "ax.legend(loc=\"upper right\")\n",
    "ax.set_xlabel('epoch')\n",
    "ax.set_ylabel('loss')\n",
    "\n",
    "# plot accuracy vs epoch\n",
    "ax = plt.subplot(2, 2, 2)\n",
    "ax.plot(history.history['acc'], label='acc')\n",
    "ax.plot(history.history['val_acc'], label='val_acc')\n",
    "ax.legend(loc=\"upper left\")\n",
    "ax.set_xlabel('epoch')\n",
    "ax.set_ylabel('acc')\n",
    "\n",
    "# Plot ROC\n",
    "Y_predict = model.predict(X_test)\n",
    "from sklearn.metrics import roc_curve, auc\n",
    "fpr, tpr, thresholds = roc_curve(Y_test, Y_predict)\n",
    "roc_auc = auc(fpr, tpr)\n",
    "ax = plt.subplot(2, 2, 3)\n",
    "ax.plot(fpr, tpr, lw=2, color='cyan', label='auc = %.3f' % (roc_auc))\n",
    "ax.plot([0, 1], [0, 1], linestyle='--', lw=2, color='k', label='random chance')\n",
    "ax.set_xlim([0, 1.0])\n",
    "ax.set_ylim([0, 1.0])\n",
    "ax.set_xlabel('false positive rate')\n",
    "ax.set_ylabel('true positive rate')\n",
    "ax.set_title('receiver operating curve')\n",
    "ax.legend(loc=\"lower right\")\n",
    "plt.show()"
   ]
  },
  {
   "cell_type": "code",
   "execution_count": null,
   "metadata": {},
   "outputs": [],
   "source": []
  }
 ],
 "metadata": {
  "kernelspec": {
   "display_name": "machine-learning-hats",
   "language": "python",
   "name": "machine-learning-hats"
  },
  "language_info": {
   "codemirror_mode": {
    "name": "ipython",
    "version": 2
   },
   "file_extension": ".py",
   "mimetype": "text/x-python",
   "name": "python",
   "nbconvert_exporter": "python",
   "pygments_lexer": "ipython2",
   "version": "2.7.15+"
  }
 },
 "nbformat": 4,
 "nbformat_minor": 1
}
